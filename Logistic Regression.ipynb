{
 "cells": [
  {
   "cell_type": "markdown",
   "id": "61ad99f0",
   "metadata": {},
   "source": [
    "<div class=\"alert alert-danger\" role=\"alert\">\n",
    "<h1>Logistic Regression</h1>\n",
    "<ul>\n",
    "<li><ol  start='1'>\n",
    "<li>Import Libraries</li>\n",
    "\n",
    "</ol>\n",
    "</li>\n",
    "<li><ol start='2' >\n",
    "<li>Prepare Dataset</li>\n",
    "\n",
    "</ol>\n",
    "</li>\n",
    "<li><ol start='3' >\n",
    "<li>Create Logistic Regression Model</li>\n",
    "\n",
    "</ol>\n",
    "</li>\n",
    "<li><ol start='4' >\n",
    "<li>Instantiate Model</li>\n",
    " \n",
    "</ol>\n",
    "</li>\n",
    "<li><ol start='5' >\n",
    "<li>Instantiate Loss</li>\n",
    "    \n",
    "</ol>\n",
    "</li>\n",
    "<li><ol start='6' >\n",
    "<li>Instantiate Optimizer</li>\n",
    "\n",
    "</ol>\n",
    "</li>\n",
    "<li><ol start='7' >\n",
    "<li>Traning the Model</li>\n",
    "    \n",
    "</ol>\n",
    "</li>\n",
    "<li><ol start='8' >\n",
    "<li>Prediction</li>\n",
    "    \n",
    "</ol>\n",
    "</li>\n",
    "   \n",
    "</ul>\n",
    "</div>"
   ]
  },
  {
   "cell_type": "code",
   "execution_count": 16,
   "id": "fb2edd74",
   "metadata": {},
   "outputs": [],
   "source": [
    "# import libraries\n",
    "import torch\n",
    "import torch.nn as nn\n",
    "from torch.autograd import Variable\n",
    "from torch.utils.data import DataLoader\n",
    "import pandas as pd\n",
    "from sklearn.model_selection import train_test_split\n",
    "import numpy as np\n",
    "import matplotlib.pyplot as plt"
   ]
  },
  {
   "cell_type": "code",
   "execution_count": 18,
   "id": "6bdd9599",
   "metadata": {},
   "outputs": [
    {
     "data": {
      "image/png": "[encoded data removed]",
      "text/plain": [
       "<Figure size 432x288 with 1 Axes>"
      ]
     },
     "metadata": {
      "needs_background": "light"
     },
     "output_type": "display_data"
    }
   ],
   "source": [
    "# prepare dataset\n",
    "# load data\n",
    "train = pd.read_csv(r\"datasets\\digit-recognizer\\train.csv\", dtype=np.float32)\n",
    "\n",
    "# split datainfo features(pixels) and labels(numbers from 0 to 9)\n",
    "targets_numpy = train.label.values\n",
    "features_numpy = train.loc[:, train.columns != \"label\"].values/255 # normalization\n",
    "\n",
    "# train test split. Size of train data is 80% and size of test data is 20%\n",
    "features_train, features_test, targets_train, targets_test = train_test_split(features_numpy,\n",
    "                                                                             targets_numpy,\n",
    "                                                                             test_size=0.2,\n",
    "                                                                             random_state=42)\n",
    "\n",
    "# create feature and targets tensor for train set. \n",
    "featuresTrain = torch.from_numpy(features_train)\n",
    "targetsTrain = torch.from_numpy(targets_train).type(torch.LongTensor) # data type is long\n",
    "\n",
    "# create feature and targets tensor for test set\n",
    "featuresTest = torch.from_numpy(features_test)\n",
    "targetsTest = torch.from_numpy(targets_test).type(torch.LongTensor)\n",
    "\n",
    "# batch_size, epoch and iteration\n",
    "batch_size = 100\n",
    "n_iters = 10000\n",
    "num_epochs = n_iters / (len(features_train) / batch_size)\n",
    "num_epochs = int(num_epochs)\n",
    "\n",
    "# pytorch train and test sets\n",
    "train = torch.utils.data.TensorDataset(featuresTrain, targetsTrain)\n",
    "test = torch.utils.data.TensorDataset(featuresTest, targetsTest)\n",
    "\n",
    "# data loader\n",
    "train_loader = DataLoader(train, batch_size=batch_size, shuffle=False)\n",
    "test_loader = DataLoader(test, batch_size=batch_size, shuffle=False)\n",
    "\n",
    "# visualize one of the images in data set\n",
    "plt.imshow(features_numpy[8].reshape(28,28))\n",
    "plt.axis(\"off\")\n",
    "plt.title(str(targets_numpy[10]))\n",
    "plt.savefig('graph.png')\n",
    "plt.show()"
   ]
  },
  {
   "cell_type": "code",
   "execution_count": 19,
   "id": "2a7f3acd",
   "metadata": {},
   "outputs": [],
   "source": [
    "# create logistic regression model\n",
    "class LogisticRegressionModel(nn.Module):\n",
    "    def __init__(self, input_dim, output_dim):\n",
    "        super(LogisticRegressionModel, self).__init__()\n",
    "        self.linear = nn.Linear(input_dim, output_dim)\n",
    "        # however logistic function in pytorch is in loss function \n",
    "    \n",
    "    def forward(self, x):\n",
    "        out = self.linear(x)\n",
    "        return out\n",
    "\n",
    "# Instantiate model class\n",
    "input_dim = 28 * 28 # size of image px*px\n",
    "output_dim = 10 # labels 0,1,2,...,8,9\n",
    "\n",
    "# create logistic regression model\n",
    "model = LogisticRegressionModel(input_dim, output_dim)\n",
    "\n",
    "# cross entropy loss\n",
    "error = nn.CrossEntropyLoss()\n",
    "\n",
    "# SGD optimizer\n",
    "learning_rate = 0.001\n",
    "optimizer = torch.optim.SGD(model.parameters(), lr=learning_rate)"
   ]
  },
  {
   "cell_type": "code",
   "execution_count": 20,
   "id": "003d7d13",
   "metadata": {},
   "outputs": [
    {
     "name": "stdout",
     "output_type": "stream",
     "text": [
      "Iteration: 500  Loss: 1.866590142250061  Accuracy: 64.88095092773438%\n",
      "Iteration: 1000  Loss: 1.625024676322937  Accuracy: 75.48809814453125%\n",
      "Iteration: 1500  Loss: 1.3144197463989258  Accuracy: 78.46428680419922%\n",
      "Iteration: 2000  Loss: 1.2165818214416504  Accuracy: 79.98809814453125%\n",
      "Iteration: 2500  Loss: 1.0580761432647705  Accuracy: 81.05952453613281%\n",
      "Iteration: 3000  Loss: 0.9362236261367798  Accuracy: 82.01190185546875%\n",
      "Iteration: 3500  Loss: 0.9132123589515686  Accuracy: 82.72618865966797%\n",
      "Iteration: 4000  Loss: 0.7546958327293396  Accuracy: 83.21428680419922%\n",
      "Iteration: 4500  Loss: 0.9733425974845886  Accuracy: 83.63095092773438%\n",
      "Iteration: 5000  Loss: 0.8013371825218201  Accuracy: 83.97618865966797%\n",
      "Iteration: 5500  Loss: 0.7533406615257263  Accuracy: 84.26190185546875%\n",
      "Iteration: 6000  Loss: 0.8716821074485779  Accuracy: 84.54762268066406%\n",
      "Iteration: 6500  Loss: 0.6628409028053284  Accuracy: 84.85713958740234%\n",
      "Iteration: 7000  Loss: 0.720717191696167  Accuracy: 85.07142639160156%\n",
      "Iteration: 7500  Loss: 0.6321902275085449  Accuracy: 85.22618865966797%\n",
      "Iteration: 8000  Loss: 0.7412452697753906  Accuracy: 85.39286041259766%\n",
      "Iteration: 8500  Loss: 0.5585348606109619  Accuracy: 85.51190185546875%\n",
      "Iteration: 9000  Loss: 0.6606708765029907  Accuracy: 85.64286041259766%\n",
      "Iteration: 9500  Loss: 0.5259329676628113  Accuracy: 85.78571319580078%\n"
     ]
    }
   ],
   "source": [
    "# training the model\n",
    "count = 0\n",
    "loss_list = []\n",
    "iteration_list = []\n",
    "for epoch in range(num_epochs):\n",
    "    for i, (images, labels) in enumerate(train_loader):\n",
    "        # define variables\n",
    "        train = Variable(images.view(-1, 28*28))\n",
    "        labels = Variable(labels)\n",
    "        \n",
    "        # clear gradients\n",
    "        optimizer.zero_grad()\n",
    "        \n",
    "        # forward porpagation\n",
    "        outputs = model(train)\n",
    "        \n",
    "        # calculate softmax and cross entropy loss\n",
    "        loss = error(outputs, labels)\n",
    "        \n",
    "        # calculate gradients\n",
    "        loss.backward()\n",
    "        \n",
    "        # update parameters\n",
    "        optimizer.step()\n",
    "        \n",
    "        count += 1\n",
    "        \n",
    "        # prediction\n",
    "        if count % 50 == 0:\n",
    "            # calculate accuracy\n",
    "            correct = 0\n",
    "            total = 0\n",
    "            # predict test dataset\n",
    "            for images, labels in test_loader:\n",
    "                test = Variable(images.view(-1, 28*28))\n",
    "                # forward propagation\n",
    "                outputs = model(test)\n",
    "                # get predictions from the max value\n",
    "                predicted = torch.max(outputs.data, 1)[1]\n",
    "                # total number of labels\n",
    "                total += len(labels)\n",
    "                # total correct predictions\n",
    "                correct += (predicted == labels).sum()\n",
    "                \n",
    "            accuracy = 100 * correct / float(total)\n",
    "            \n",
    "            # store loss and iteration \n",
    "            loss_list.append(loss.data)\n",
    "            iteration_list.append(count)\n",
    "        \n",
    "        if count % 500 == 0:\n",
    "            # print loss\n",
    "            print('Iteration: {}  Loss: {}  Accuracy: {}%'.format(count, loss.data, accuracy))"
   ]
  },
  {
   "cell_type": "code",
   "execution_count": 21,
   "id": "bebbf544",
   "metadata": {},
   "outputs": [
    {
     "data": {
      "image/png": "[encoded data removed]",
      "text/plain": [
       "<Figure size 432x288 with 1 Axes>"
      ]
     },
     "metadata": {
      "needs_background": "light"
     },
     "output_type": "display_data"
    }
   ],
   "source": [
    "# visualization\n",
    "plt.plot(iteration_list, loss_list)\n",
    "plt.xlabel(\"Number of Iteration\")\n",
    "plt.ylabel(\"loss\")\n",
    "plt.title(\"Logistic Regression: Loss vs Number of Ieteration\")\n",
    "plt.show()"
   ]
  },
  {
   "cell_type": "code",
   "execution_count": null,
   "id": "bab2a797",
   "metadata": {},
   "outputs": [],
   "source": []
  }
 ],
 "metadata": {
  "kernelspec": {
   "display_name": "Python 3",
   "language": "python",
   "name": "python3"
  },
  "language_info": {
   "codemirror_mode": {
    "name": "ipython",
    "version": 3
   },
   "file_extension": ".py",
   "mimetype": "text/x-python",
   "name": "python",
   "nbconvert_exporter": "python",
   "pygments_lexer": "ipython3",
   "version": "3.7.4"
  }
 },
 "nbformat": 4,
 "nbformat_minor": 5
}
