{
 "cells": [
  {
   "cell_type": "markdown",
   "id": "f68799d1",
   "metadata": {},
   "source": [
    "<div class=\"alert alert-danger\" role=\"alert\">\n",
    "<h1>Linear Regression</h1>\n",
    "<ul>\n",
    "\n",
    "</ul>\n",
    "</div>"
   ]
  },
  {
   "cell_type": "markdown",
   "id": "94f2eb04",
   "metadata": {},
   "source": [
    "* y = Ax + B\n",
    "    - A = slope of curve\n",
    "    - B = bias \n",
    "\n",
    "\n",
    "* For example, we have car company. If the car price is low, we sell more car. If the car price is high, we sell less car.This is the fact that we know and we have data set about this fact.\n",
    "\n",
    "\n",
    "* This question is that what will be number of car sell if the car price is 100."
   ]
  },
  {
   "cell_type": "code",
   "execution_count": 12,
   "id": "fd3f45d8",
   "metadata": {},
   "outputs": [],
   "source": [
    "import numpy as np\n",
    "import pandas as pd\n",
    "import torch\n",
    "from torch.autograd import Variable"
   ]
  },
  {
   "cell_type": "code",
   "execution_count": 16,
   "id": "45dd3c90",
   "metadata": {},
   "outputs": [
    {
     "data": {
      "image/png": "[encoded data removed]",
      "text/plain": [
       "<Figure size 432x288 with 1 Axes>"
      ]
     },
     "metadata": {
      "needs_background": "light"
     },
     "output_type": "display_data"
    }
   ],
   "source": [
    "# As a car company we collect this data from previous selling. Lets define car prices\n",
    "car_price_array = [3,4,5,6,7,8,9]\n",
    "car_price_np = np.array(car_price_array, dtype=np.float32)\n",
    "car_price_np = car_price_np.reshape(-1, 1)\n",
    "car_price_tensor = Variable(torch.from_numpy(car_price_np))\n",
    "\n",
    "# lets define number of car sell\n",
    "number_of_car_sell_array = [7.5, 7, 6.5, 6.0, 5.5, 5.0, 4.5]\n",
    "number_of_car_sell_np = np.array(number_of_car_sell_array, dtype=np.float32)\n",
    "number_of_car_sell_np = number_of_car_sell_np.reshape(-1,1)\n",
    "number_of_car_sell_tensor = Variable(torch.from_numpy(number_of_car_sell_np))\n",
    "\n",
    "# Lets visualize our data\n",
    "import matplotlib.pyplot as plt\n",
    "plt.scatter(car_price_array, number_of_car_sell_array)\n",
    "plt.xlabel(\"Car Price $\")\n",
    "plt.ylabel(\"Number of Car Sell\")\n",
    "plt.title(\"Car Price$ VS Number of Car Sell\")\n",
    "plt.show()"
   ]
  },
  {
   "cell_type": "markdown",
   "id": "73d41ec2",
   "metadata": {},
   "source": [
    "* We need to line fit into this data. Aim is fitting line with minimum error.\n",
    "\n",
    "\n",
    "* Steps of Linear Regression\n",
    "     - create LinearRegression class\n",
    "     - define model from this LinearRegression class\n",
    "     - MSE: mean squared error\n",
    "     - optimization (SGD: stochastic gradient descent)\n",
    "     - backpropagation\n",
    "     - prediction\n",
    "     \n",
    "\n",
    "* Lets implement it with Pytorch"
   ]
  },
  {
   "cell_type": "code",
   "execution_count": 17,
   "id": "fc77dee6",
   "metadata": {},
   "outputs": [
    {
     "name": "stdout",
     "output_type": "stream",
     "text": [
      "epoch 0, loss 25.53628158569336\n",
      "epoch 50, loss 4.360040187835693\n",
      "epoch 100, loss 2.9462625980377197\n",
      "epoch 150, loss 1.99091374874115\n",
      "epoch 200, loss 1.3453441858291626\n",
      "epoch 250, loss 0.9091057181358337\n",
      "epoch 300, loss 0.6143214106559753\n",
      "epoch 350, loss 0.4151223599910736\n",
      "epoch 400, loss 0.2805149257183075\n",
      "epoch 450, loss 0.18955576419830322\n",
      "epoch 500, loss 0.1280910223722458\n",
      "epoch 550, loss 0.08655614405870438\n",
      "epoch 600, loss 0.05848982185125351\n",
      "epoch 650, loss 0.039524223655462265\n",
      "epoch 700, loss 0.026707787066698074\n",
      "epoch 750, loss 0.01804777979850769\n",
      "epoch 800, loss 0.012195662595331669\n",
      "epoch 850, loss 0.008240933530032635\n",
      "epoch 900, loss 0.005568608175963163\n",
      "epoch 950, loss 0.003762949490919709\n",
      "epoch 1000, loss 0.002542823785915971\n"
     ]
    },
    {
     "data": {
      "image/png": "[encoded data removed]",
      "text/plain": [
       "<Figure size 432x288 with 1 Axes>"
      ]
     },
     "metadata": {
      "needs_background": "light"
     },
     "output_type": "display_data"
    }
   ],
   "source": [
    "# linear regression with pytorch\n",
    "import torch\n",
    "from torch.autograd import Variable\n",
    "import torch.nn as nn\n",
    "import warnings\n",
    "warnings.filterwarnings(\"ignore\")\n",
    "\n",
    "# create class\n",
    "class LinearRegression(nn.Module):\n",
    "    def __init__(self, input_size, output_size):\n",
    "        # super function. It inherits from nn.Module and we can access everythink in nn.Module\n",
    "        super(LinearRegression,self).__init__()\n",
    "        # linear function\n",
    "        self.linear = nn.Linear(input_dim, output_dim)\n",
    "    def forward(self, x):\n",
    "        return self.linear(x)\n",
    "    \n",
    "# define model\n",
    "input_dim = 1\n",
    "output_dim = 1\n",
    "model = LinearRegression(input_dim, output_dim) \n",
    "\n",
    "# MSE\n",
    "mse = nn.MSELoss()\n",
    "\n",
    "# optimization (find parameters that minimize error)\n",
    "learning_rate = 0.02 \n",
    "optimizer = torch.optim.SGD(model.parameters(), lr=learning_rate)\n",
    "\n",
    "# train model\n",
    "loss_list = []\n",
    "iteration_number = 1001\n",
    "for iteration in range(iteration_number):\n",
    "    \n",
    "    # optimization\n",
    "    optimizer.zero_grad()\n",
    "    \n",
    "    # forward to get output\n",
    "    results = model(car_price_tensor)\n",
    "    \n",
    "    # calculate loss\n",
    "    loss = mse(results, number_of_car_sell_tensor)\n",
    "    \n",
    "    # backward propagation\n",
    "    loss.backward()\n",
    "    \n",
    "    # updating parameters\n",
    "    optimizer.step()\n",
    "    \n",
    "    # store loss\n",
    "    loss_list.append(loss.data)\n",
    "    \n",
    "    # print loss\n",
    "    if(iteration % 50 == 0):\n",
    "        print('epoch {}, loss {}'.format(iteration, loss.data))\n",
    "        \n",
    "\n",
    "plt.plot(range(iteration_number), loss_list)\n",
    "plt.xlabel(\"Number of Iterations\")\n",
    "plt.ylabel(\"Loss\")\n",
    "plt.show()"
   ]
  },
  {
   "cell_type": "markdown",
   "id": "5af426b4",
   "metadata": {},
   "source": [
    "* Loss is almost zero that you can see from plot or loss in epoch number 1000.\n",
    "\n",
    "\n",
    "* Now we have trained model.\n",
    "\n",
    "\n",
    "* While using trained model, lets predict car prices"
   ]
  },
  {
   "cell_type": "code",
   "execution_count": 20,
   "id": "64702488",
   "metadata": {},
   "outputs": [
    {
     "data": {
      "image/png": "[encoded data removed]",
      "text/plain": [
       "<Figure size 432x288 with 1 Axes>"
      ]
     },
     "metadata": {
      "needs_background": "light"
     },
     "output_type": "display_data"
    }
   ],
   "source": [
    "# predict our car price\n",
    "predicted = model(car_price_tensor).data.numpy()\n",
    "plt.scatter(car_price_array, number_of_car_sell_array, label='original data', color=\"red\")\n",
    "plt.scatter(car_price_array, predicted, label='predicted data', color=\"blue\")\n",
    "\n",
    "# predict if car price is 10$, what will be the number of car sell\n",
    "# predicted_10 = model(torch.from_numpy(np.array([10]))).data.numpy()\n",
    "# plt.scatter(10, predicted_10.data, label=\"car price 10$\", color=\"green\")\n",
    "\n",
    "plt.legend()\n",
    "plt.xlabel(\"Car Price $\")\n",
    "plt.ylabel(\"Number of Car Sell\")\n",
    "plt.title(\"Original vs Predicted Values\")\n",
    "plt.show()"
   ]
  },
  {
   "cell_type": "code",
   "execution_count": null,
   "id": "935cc9ef",
   "metadata": {},
   "outputs": [],
   "source": []
  }
 ],
 "metadata": {
  "kernelspec": {
   "display_name": "Python 3",
   "language": "python",
   "name": "python3"
  },
  "language_info": {
   "codemirror_mode": {
    "name": "ipython",
    "version": 3
   },
   "file_extension": ".py",
   "mimetype": "text/x-python",
   "name": "python",
   "nbconvert_exporter": "python",
   "pygments_lexer": "ipython3",
   "version": "3.7.4"
  }
 },
 "nbformat": 4,
 "nbformat_minor": 5
}
